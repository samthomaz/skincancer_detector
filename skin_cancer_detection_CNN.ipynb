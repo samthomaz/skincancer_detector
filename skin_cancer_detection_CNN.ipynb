{
  "nbformat": 4,
  "nbformat_minor": 0,
  "metadata": {
    "colab": {
      "provenance": [],
      "gpuType": "T4",
      "toc_visible": true,
      "authorship_tag": "ABX9TyOC47ZVWtLpYHtA9Mb+F65M",
      "include_colab_link": true
    },
    "kernelspec": {
      "name": "python3",
      "display_name": "Python 3"
    },
    "language_info": {
      "name": "python"
    }
  },
  "cells": [
    {
      "cell_type": "markdown",
      "metadata": {
        "id": "view-in-github",
        "colab_type": "text"
      },
      "source": [
        "<a href=\"https://colab.research.google.com/github/samthomaz/skincancer_detector/blob/main/skin_cancer_detection_CNN.ipynb\" target=\"_parent\"><img src=\"https://colab.research.google.com/assets/colab-badge.svg\" alt=\"Open In Colab\"/></a>"
      ]
    },
    {
      "cell_type": "markdown",
      "source": [
        "# **Google Colab Setup and Loading Dataset**"
      ],
      "metadata": {
        "id": "v-qpRKZzRSQY"
      }
    },
    {
      "cell_type": "code",
      "execution_count": null,
      "metadata": {
        "id": "vB9N4Mzk9sbO"
      },
      "outputs": [],
      "source": [
        "from google.colab import files\n",
        "files.upload()"
      ]
    },
    {
      "cell_type": "code",
      "source": [
        "!mkdir -p ~/.kaggle\n",
        "!cp kaggle.json ~/.kaggle/\n",
        "!chmod 600 ~/.kaggle/kaggle.json\n",
        "\n",
        "#Download HAM10000 Dataset\n",
        "!kaggle datasets download kmader/skin-cancer-mnist-ham10000\n",
        "!ls\n",
        "!unzip skin-cancer-mnist-ham10000.zip\n",
        "!ls"
      ],
      "metadata": {
        "collapsed": true,
        "id": "2ye9xP6UEB6l"
      },
      "execution_count": null,
      "outputs": []
    },
    {
      "cell_type": "code",
      "source": [
        "import pandas as pd\n",
        "import os\n",
        "import matplotlib.pyplot as plt\n",
        "import seaborn as sns\n",
        "from PIL import Image\n",
        "\n",
        "!ls\n",
        "\n",
        "df = pd.read_csv('HAM10000_metadata.csv')\n",
        "df.head()\n",
        "\n",
        "print(\"Total images: \", len(df))\n",
        "\n",
        "sns.countplot(x='dx', data=df)\n",
        "plt.title('Class Distribution')\n",
        "plt.xticks(rotation=45)\n",
        "plt.show()"
      ],
      "metadata": {
        "id": "9912fbEmEkXr"
      },
      "execution_count": null,
      "outputs": []
    },
    {
      "cell_type": "code",
      "source": [
        "df['label'] = df['dx'].apply(lambda x: 1 if x == 'mel' else 0)\n",
        "print(df['label'].value_counts())"
      ],
      "metadata": {
        "id": "2dEnRFlxMjgf"
      },
      "execution_count": null,
      "outputs": []
    },
    {
      "cell_type": "code",
      "source": [
        "import matplotlib.pyplot as plt\n",
        "\n",
        "def show_images(df, label, n=5):\n",
        "  subset = df[df['label'] == label].sample(n)\n",
        "  plt.figure(figsize=(15, 5))\n",
        "  for i, row in enumerate(subset.itertuples()):\n",
        "    image_path = os.path.join('HAM10000_images_part_1', row.image_id + '.jpg')\n",
        "    if not os.path.exists(image_path):\n",
        "      image_path = os.path.join('HAM10000_images_part_2', row.image_id + '.jpg')\n",
        "    image = Image.open(image_path)\n",
        "    plt.subplot(1, n, i+1)\n",
        "    plt.imshow(image)\n",
        "    plt.title('Melanoma' if row.label == 1 else 'Benign')\n",
        "    plt.axis('off')\n",
        "  plt.tight_layout()\n",
        "  plt.show()\n",
        "\n",
        "show_images(df, label=1) # Melanoma\n",
        "show_images(df, label=0) # Benign"
      ],
      "metadata": {
        "id": "Yzw4ki9oPLDI"
      },
      "execution_count": null,
      "outputs": []
    },
    {
      "cell_type": "markdown",
      "source": [
        "# **Preprocessing & Dataset Preparation**"
      ],
      "metadata": {
        "id": "KzHkwUV7RcpT"
      }
    },
    {
      "cell_type": "code",
      "source": [
        "import os\n",
        "\n",
        "#Code block will aid to get the correct image path\n",
        "def get_image_path(image_id):\n",
        "  part1 = os.path.join('HAM10000_images_part_1', image_id + '.jpg')\n",
        "  part2 = os.path.join('HAM10000_images_part_2', image_id + '.jpg')\n",
        "  return part1 if os.path.exists(part1) else part2\n",
        "\n",
        "df['image_path'] = df['image_id'].apply(get_image_path)\n",
        "\n",
        "df[['image_id', 'image_path', 'label']].head()"
      ],
      "metadata": {
        "id": "HDWwRi9KRspk"
      },
      "execution_count": null,
      "outputs": []
    },
    {
      "cell_type": "code",
      "source": [
        "mel_df = df[df['label'] == 1]\n",
        "non_mel_df = df[df['label'] == 0].sample(len(mel_df), random_state=42)\n",
        "\n",
        "balanced_df = pd.concat([mel_df, non_mel_df]).sample(frac=1).reset_index(drop=True)\n",
        "print(balanced_df['label'].value_counts())"
      ],
      "metadata": {
        "id": "j2ucEvsZStd-"
      },
      "execution_count": null,
      "outputs": []
    },
    {
      "cell_type": "code",
      "source": [
        "from tensorflow.keras.preprocessing.image import ImageDataGenerator\n",
        "\n",
        "IMG_SIZE = (224, 224)\n",
        "BATCH_SIZE = 32\n",
        "\n",
        "datagen = ImageDataGenerator(\n",
        "    rescale=1./255, #normalises image pixels from 0-255 to 0-1\n",
        "    validation_split=0.2, #rsvs 20% of data for validation\n",
        "    horizontal_flip=True, #adds data augmentation to make model more robust\n",
        "    rotation_range=15,\n",
        "    zoom_range=0.1\n",
        ")\n",
        "\n",
        "#creates batches of images and labels for training and validation sets\n",
        "train_gen = datagen.flow_from_dataframe(\n",
        "    balanced_df,\n",
        "    x_col='image_path',\n",
        "    y_col='label',\n",
        "    target_size=IMG_SIZE,\n",
        "    batch_size=BATCH_SIZE,\n",
        "    class_mode='raw',\n",
        "    subset='training',\n",
        "    shuffle=True\n",
        "  )\n",
        "\n",
        "\n",
        "validation_gen = datagen.flow_from_dataframe(\n",
        "    balanced_df,\n",
        "    x_col='image_path',\n",
        "    y_col='label',\n",
        "    target_size=IMG_SIZE,\n",
        "    batch_size=BATCH_SIZE,\n",
        "    class_mode='raw',\n",
        "    subset='validation',\n",
        "    shuffle=True\n",
        ")"
      ],
      "metadata": {
        "id": "ot4gi16nTWBr"
      },
      "execution_count": null,
      "outputs": []
    },
    {
      "cell_type": "markdown",
      "source": [
        "# **Building and Training CNN model with Transfer Learning**\n",
        "\n",
        "Transfer learning reuses \"early layers\" of pre-trained model (which detects edges, shapes, colours) and adds user defined custom output layer for the case (in this instance it is the melanoma detection).\n",
        "\n",
        "MobielNetV2 will be used since"
      ],
      "metadata": {
        "id": "w--gM8EsaaG2"
      }
    },
    {
      "cell_type": "code",
      "source": [
        "import tensorflow as tf\n",
        "from tensorflow.keras.applications import MobileNetV2\n",
        "from tensorflow.keras.models import Model\n",
        "from tensorflow.keras.layers import Dense, GlobalAveragePooling2D, Dropout\n",
        "from tensorflow.keras.optimizers import Adam\n",
        "\n",
        "# Loading the base MobileNetV2 model (without top layers)\n",
        "base_model = MobileNetV2(input_shape = (IMG_SIZE[0], IMG_SIZE[1], 3),\n",
        "                         include_top =  False, #not to include ImageNet classification head\n",
        "                         weights = 'imagenet') # use weights learnt from imagenet\n",
        "\n",
        "#Freeze the base layers to only train the new top layers\n",
        "base_model.trainable = False"
      ],
      "metadata": {
        "id": "uay4sTuxUME5"
      },
      "execution_count": null,
      "outputs": []
    },
    {
      "cell_type": "code",
      "source": [
        "#Adding Custom Layers\n",
        "\n",
        "x = base_model.output\n",
        "x = GlobalAveragePooling2D()(x)\n",
        "x = Dropout(0.3)(x)\n",
        "x = Dense(128, activation='relu')(x)\n",
        "x = Dropout(0.3)(x)\n",
        "predictions = Dense(1, activation='sigmoid')(x)\n",
        "\n",
        "model = Model(inputs=base_model.input, outputs=predictions)"
      ],
      "metadata": {
        "id": "2sgi-lMobhdi"
      },
      "execution_count": null,
      "outputs": []
    },
    {
      "cell_type": "code",
      "source": [
        "model.compile(\n",
        "    loss = 'binary_crossentropy',\n",
        "    optimizer = Adam(learning_rate=0.0001),\n",
        "    metrics = ['accuracy']\n",
        ")"
      ],
      "metadata": {
        "id": "lpBpfotycOqx"
      },
      "execution_count": null,
      "outputs": []
    },
    {
      "cell_type": "code",
      "source": [
        "history = model.fit(\n",
        "    train_gen,\n",
        "    validation_data = validation_gen,\n",
        "    epochs = 10,\n",
        ")"
      ],
      "metadata": {
        "id": "1a4QSXiIcd6R"
      },
      "execution_count": null,
      "outputs": []
    },
    {
      "cell_type": "code",
      "source": [
        "import matplotlib.pyplot as plt\n",
        "\n",
        "#Accuracy plot\n",
        "plt.plot(history.history['accuracy'], label = 'Training Accuracy')\n",
        "plt.plot(history.history['val_accuracy'], label = 'Validation Accuracy')\n",
        "plt.title('Model Accuracy')\n",
        "plt.xlabel('Epoch')\n",
        "plt.ylabel('Accuracy')\n",
        "plt.legend()\n",
        "plt.show()"
      ],
      "metadata": {
        "id": "KBFFBLU1chuP"
      },
      "execution_count": null,
      "outputs": []
    },
    {
      "cell_type": "markdown",
      "source": [
        "# **Evaluate and Interpret the Model**"
      ],
      "metadata": {
        "id": "3oZFK1VCuXil"
      }
    },
    {
      "cell_type": "code",
      "source": [
        "import numpy as np\n",
        "\n",
        "#Reset validation_gen, so that it will start from the beginning\n",
        "validation_gen.reset()\n",
        "\n",
        "\n",
        "#Predict images in validation set\n",
        "prediction_probs = model.predict(validation_gen, verbose=1)\n",
        "prediction_labels = (prediction_probs > 0.5).astype(int).flatten()\n",
        "\n",
        "# True Labels\n",
        "true_labels = validation_gen.classes"
      ],
      "metadata": {
        "id": "BZNl5a-muGoh"
      },
      "execution_count": null,
      "outputs": []
    },
    {
      "cell_type": "code",
      "source": [
        "# Create a Confusion Matrix\n",
        "\n",
        "from sklearn.metrics import confusion_matrix, classification_report\n",
        "import seaborn as sns\n",
        "import matplotlib.pyplot as plt\n",
        "\n",
        "#Confusion Matrix\n",
        "cm = confusion_matrix(true_labels, prediction_labels)\n",
        "sns.heatmap(cm, annot=True, fmt='d', cmap='Blues')\n",
        "plt.xlabel('Predicted')\n",
        "plt.ylabel('Actual')\n",
        "plt.title('Confusion Matrix')\n",
        "plt.show()"
      ],
      "metadata": {
        "id": "mRYuR1Y4yJxw"
      },
      "execution_count": null,
      "outputs": []
    },
    {
      "cell_type": "code",
      "source": [],
      "metadata": {
        "id": "pI9NKXnJz-pa"
      },
      "execution_count": null,
      "outputs": []
    }
  ]
}